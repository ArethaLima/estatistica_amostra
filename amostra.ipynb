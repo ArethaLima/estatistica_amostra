{
 "cells": [
  {
   "cell_type": "code",
   "execution_count": 3,
   "metadata": {},
   "outputs": [],
   "source": [
    "import pandas as pd\n",
    "import numpy as np\n",
    "import random"
   ]
  },
  {
   "cell_type": "code",
   "execution_count": 175,
   "metadata": {},
   "outputs": [
    {
     "data": {
      "text/plain": [
       "(2000, 5)"
      ]
     },
     "execution_count": 175,
     "metadata": {},
     "output_type": "execute_result"
    }
   ],
   "source": [
    "dataset = pd.read_csv('credit_data.csv')\n",
    "dataset.shape"
   ]
  },
  {
   "cell_type": "markdown",
   "metadata": {},
   "source": [
    "Amostragem aleatória simples"
   ]
  },
  {
   "cell_type": "code",
   "execution_count": 176,
   "metadata": {},
   "outputs": [],
   "source": [
    "def amostra_aleatoria_simples(dataset, amostras):\n",
    "    return dataset.sample(n = amostras)"
   ]
  },
  {
   "cell_type": "code",
   "execution_count": 178,
   "metadata": {},
   "outputs": [
    {
     "data": {
      "text/plain": [
       "(20, 5)"
      ]
     },
     "execution_count": 178,
     "metadata": {},
     "output_type": "execute_result"
    }
   ],
   "source": [
    "df_amostragem_aleatoria_simples = amostra_aleatoria_simples(dataset, 20)\n",
    "df_amostragem_aleatoria_simples.shape"
   ]
  },
  {
   "cell_type": "code",
   "execution_count": 113,
   "metadata": {},
   "outputs": [
    {
     "data": {
      "text/html": [
       "<div>\n",
       "<style scoped>\n",
       "    .dataframe tbody tr th:only-of-type {\n",
       "        vertical-align: middle;\n",
       "    }\n",
       "\n",
       "    .dataframe tbody tr th {\n",
       "        vertical-align: top;\n",
       "    }\n",
       "\n",
       "    .dataframe thead th {\n",
       "        text-align: right;\n",
       "    }\n",
       "</style>\n",
       "<table border=\"1\" class=\"dataframe\">\n",
       "  <thead>\n",
       "    <tr style=\"text-align: right;\">\n",
       "      <th></th>\n",
       "      <th>i#clientid</th>\n",
       "      <th>income</th>\n",
       "      <th>age</th>\n",
       "      <th>loan</th>\n",
       "      <th>c#default</th>\n",
       "      <th>grupo</th>\n",
       "    </tr>\n",
       "  </thead>\n",
       "  <tbody>\n",
       "    <tr>\n",
       "      <th>1389</th>\n",
       "      <td>1390</td>\n",
       "      <td>39553.647377</td>\n",
       "      <td>53.690633</td>\n",
       "      <td>7063.898036</td>\n",
       "      <td>0</td>\n",
       "      <td>6</td>\n",
       "    </tr>\n",
       "    <tr>\n",
       "      <th>1751</th>\n",
       "      <td>1752</td>\n",
       "      <td>65913.830842</td>\n",
       "      <td>36.477758</td>\n",
       "      <td>11738.915705</td>\n",
       "      <td>0</td>\n",
       "      <td>8</td>\n",
       "    </tr>\n",
       "    <tr>\n",
       "      <th>173</th>\n",
       "      <td>174</td>\n",
       "      <td>36186.848073</td>\n",
       "      <td>50.506752</td>\n",
       "      <td>1130.735265</td>\n",
       "      <td>0</td>\n",
       "      <td>0</td>\n",
       "    </tr>\n",
       "    <tr>\n",
       "      <th>1655</th>\n",
       "      <td>1656</td>\n",
       "      <td>33820.186513</td>\n",
       "      <td>61.050884</td>\n",
       "      <td>4342.178111</td>\n",
       "      <td>0</td>\n",
       "      <td>8</td>\n",
       "    </tr>\n",
       "    <tr>\n",
       "      <th>1817</th>\n",
       "      <td>1818</td>\n",
       "      <td>33614.494610</td>\n",
       "      <td>46.473082</td>\n",
       "      <td>4837.787511</td>\n",
       "      <td>0</td>\n",
       "      <td>9</td>\n",
       "    </tr>\n",
       "  </tbody>\n",
       "</table>\n",
       "</div>"
      ],
      "text/plain": [
       "      i#clientid        income        age          loan  c#default  grupo\n",
       "1389        1390  39553.647377  53.690633   7063.898036          0      6\n",
       "1751        1752  65913.830842  36.477758  11738.915705          0      8\n",
       "173          174  36186.848073  50.506752   1130.735265          0      0\n",
       "1655        1656  33820.186513  61.050884   4342.178111          0      8\n",
       "1817        1818  33614.494610  46.473082   4837.787511          0      9"
      ]
     },
     "execution_count": 113,
     "metadata": {},
     "output_type": "execute_result"
    }
   ],
   "source": [
    "df_amostragem_aleatoria_simples.head()"
   ]
  },
  {
   "cell_type": "code",
   "execution_count": 179,
   "metadata": {},
   "outputs": [
    {
     "data": {
      "text/html": [
       "<div>\n",
       "<style scoped>\n",
       "    .dataframe tbody tr th:only-of-type {\n",
       "        vertical-align: middle;\n",
       "    }\n",
       "\n",
       "    .dataframe tbody tr th {\n",
       "        vertical-align: top;\n",
       "    }\n",
       "\n",
       "    .dataframe thead th {\n",
       "        text-align: right;\n",
       "    }\n",
       "</style>\n",
       "<table border=\"1\" class=\"dataframe\">\n",
       "  <thead>\n",
       "    <tr style=\"text-align: right;\">\n",
       "      <th></th>\n",
       "      <th>i#clientid</th>\n",
       "      <th>income</th>\n",
       "      <th>age</th>\n",
       "      <th>loan</th>\n",
       "      <th>c#default</th>\n",
       "    </tr>\n",
       "  </thead>\n",
       "  <tbody>\n",
       "    <tr>\n",
       "      <th>1110</th>\n",
       "      <td>1111</td>\n",
       "      <td>60720.796096</td>\n",
       "      <td>38.820360</td>\n",
       "      <td>3278.179727</td>\n",
       "      <td>0</td>\n",
       "    </tr>\n",
       "    <tr>\n",
       "      <th>756</th>\n",
       "      <td>757</td>\n",
       "      <td>38381.413061</td>\n",
       "      <td>54.083371</td>\n",
       "      <td>322.724156</td>\n",
       "      <td>0</td>\n",
       "    </tr>\n",
       "    <tr>\n",
       "      <th>1758</th>\n",
       "      <td>1759</td>\n",
       "      <td>23193.604597</td>\n",
       "      <td>41.936057</td>\n",
       "      <td>548.596116</td>\n",
       "      <td>0</td>\n",
       "    </tr>\n",
       "    <tr>\n",
       "      <th>718</th>\n",
       "      <td>719</td>\n",
       "      <td>31895.715306</td>\n",
       "      <td>48.185907</td>\n",
       "      <td>3423.346172</td>\n",
       "      <td>0</td>\n",
       "    </tr>\n",
       "    <tr>\n",
       "      <th>82</th>\n",
       "      <td>83</td>\n",
       "      <td>36801.907180</td>\n",
       "      <td>43.027943</td>\n",
       "      <td>5406.344926</td>\n",
       "      <td>0</td>\n",
       "    </tr>\n",
       "  </tbody>\n",
       "</table>\n",
       "</div>"
      ],
      "text/plain": [
       "      i#clientid        income        age         loan  c#default\n",
       "1110        1111  60720.796096  38.820360  3278.179727          0\n",
       "756          757  38381.413061  54.083371   322.724156          0\n",
       "1758        1759  23193.604597  41.936057   548.596116          0\n",
       "718          719  31895.715306  48.185907  3423.346172          0\n",
       "82            83  36801.907180  43.027943  5406.344926          0"
      ]
     },
     "execution_count": 179,
     "metadata": {},
     "output_type": "execute_result"
    }
   ],
   "source": [
    "df_amostragem_aleatoria_simples.tail()"
   ]
  },
  {
   "cell_type": "markdown",
   "metadata": {},
   "source": [
    "Amostragem sistemática "
   ]
  },
  {
   "cell_type": "code",
   "execution_count": 180,
   "metadata": {},
   "outputs": [
    {
     "data": {
      "text/plain": [
       "(2000, 5)"
      ]
     },
     "execution_count": 180,
     "metadata": {},
     "output_type": "execute_result"
    }
   ],
   "source": [
    "dataset.shape"
   ]
  },
  {
   "cell_type": "code",
   "execution_count": 154,
   "metadata": {},
   "outputs": [
    {
     "name": "stdout",
     "output_type": "stream",
     "text": [
      "20\n"
     ]
    }
   ],
   "source": [
    "amostra = 100\n",
    "intervalo = len(dataset) // amostra\n",
    "print(intervalo)"
   ]
  },
  {
   "cell_type": "code",
   "execution_count": 181,
   "metadata": {},
   "outputs": [
    {
     "data": {
      "text/plain": [
       "array([  10,   30,   50,   70,   90,  110,  130,  150,  170,  190,  210,\n",
       "        230,  250,  270,  290,  310,  330,  350,  370,  390,  410,  430,\n",
       "        450,  470,  490,  510,  530,  550,  570,  590,  610,  630,  650,\n",
       "        670,  690,  710,  730,  750,  770,  790,  810,  830,  850,  870,\n",
       "        890,  910,  930,  950,  970,  990, 1010, 1030, 1050, 1070, 1090,\n",
       "       1110, 1130, 1150, 1170, 1190, 1210, 1230, 1250, 1270, 1290, 1310,\n",
       "       1330, 1350, 1370, 1390, 1410, 1430, 1450, 1470, 1490, 1510, 1530,\n",
       "       1550, 1570, 1590, 1610, 1630, 1650, 1670, 1690, 1710, 1730, 1750,\n",
       "       1770, 1790, 1810, 1830, 1850, 1870, 1890, 1910, 1930, 1950, 1970,\n",
       "       1990])"
      ]
     },
     "execution_count": 181,
     "metadata": {},
     "output_type": "execute_result"
    }
   ],
   "source": [
    "#o valor do início precisar estar entre o valor do intervalo\n",
    "inicio = 10\n",
    "np.arange(inicio, len(dataset), step = intervalo )"
   ]
  },
  {
   "cell_type": "code",
   "execution_count": 183,
   "metadata": {},
   "outputs": [],
   "source": [
    "def amostragem_sistematica(dataset, amostra):\n",
    "    intervalo = len(dataset) // amostra\n",
    "    random.seed(1)\n",
    "    inicio = random.randint(0, intervalo - 1)\n",
    "    \n",
    "    # Gera os índices sistemáticos\n",
    "    indices = np.arange(inicio, len(dataset), step = intervalo)\n",
    "    amostra_sistematica = dataset.iloc[indices]\n",
    "    return amostra_sistematica"
   ]
  },
  {
   "cell_type": "code",
   "execution_count": 184,
   "metadata": {},
   "outputs": [],
   "source": [
    "df_amostra = amostragem_sistematica(dataset, 20)\n"
   ]
  },
  {
   "cell_type": "code",
   "execution_count": 185,
   "metadata": {},
   "outputs": [
    {
     "name": "stdout",
     "output_type": "stream",
     "text": [
      "      i#clientid        income        age          loan  c#default\n",
      "17            18  43378.175194  60.848318   3277.737553          0\n",
      "117          118  63062.142096  26.585778     56.166164          0\n",
      "217          218  65077.322028  50.979135  11061.811895          0\n",
      "317          318  55858.549236  25.866534   5630.444972          0\n",
      "417          418  24349.002952  53.752523   3890.471050          0\n",
      "517          518  56960.673844  25.517999   4856.483454          0\n",
      "617          618  33338.943990  46.598514   2929.851424          0\n",
      "717          718  34336.017589  35.830652   3441.644524          0\n",
      "817          818  37087.268759  57.576301   6391.153194          0\n",
      "917          918  49746.887437  29.361462   7354.129523          1\n",
      "1017        1018  34735.491748  62.358956   1402.217854          0\n",
      "1117        1118  43588.081426  40.495647   6453.057979          0\n",
      "1217        1218  29279.749787  18.813099   2291.988119          0\n",
      "1317        1318  62125.258106  21.085868   5700.457195          0\n",
      "1417        1418  56445.473915  55.661520   6875.579683          0\n",
      "1517        1518  49064.288468  43.372345   5636.353440          0\n",
      "1617        1618  67772.793681  41.515261   5037.933861          0\n",
      "1717        1718  45165.925955  37.900004   5534.550798          0\n",
      "1817        1818  33614.494610  46.473082   4837.787511          0\n",
      "1917        1918  46134.854136  54.865446   8716.611259          0\n"
     ]
    }
   ],
   "source": [
    "print(df_amostra)"
   ]
  },
  {
   "cell_type": "markdown",
   "metadata": {},
   "source": [
    "Amostragem por grupos"
   ]
  },
  {
   "cell_type": "code",
   "execution_count": 187,
   "metadata": {},
   "outputs": [],
   "source": [
    "def amostragem_agrupamento(dataset, numero_grupos):\n",
    "    intervalo = len(dataset) / numero_grupos\n",
    "\n",
    "    grupos = []\n",
    "    id_grupo = 0\n",
    "    contagem = 0\n",
    "    for _ in dataset.iterrows():\n",
    "        grupos.append(id_grupo)\n",
    "        contagem += 1\n",
    "\n",
    "        if contagem > intervalo:\n",
    "            contagem = 0\n",
    "            id_grupo += 1\n",
    "\n",
    "    dataset['grupo'] = grupos\n",
    "    grupo_selecionado = random.randint(0, numero_grupos - 1) \n",
    "    return dataset[dataset['grupo'] == grupo_selecionado]        "
   ]
  },
  {
   "cell_type": "code",
   "execution_count": 188,
   "metadata": {},
   "outputs": [],
   "source": [
    "df_amostra_agrupamento = amostragem_agrupamento(dataset, 2)"
   ]
  },
  {
   "cell_type": "code",
   "execution_count": 191,
   "metadata": {},
   "outputs": [
    {
     "data": {
      "text/plain": [
       "grupo\n",
       "0    1001\n",
       "Name: count, dtype: int64"
      ]
     },
     "execution_count": 191,
     "metadata": {},
     "output_type": "execute_result"
    }
   ],
   "source": [
    "df_amostra_agrupamento.shape\n",
    "df_amostra_agrupamento['grupo'].value_counts()\n"
   ]
  },
  {
   "cell_type": "code",
   "execution_count": 189,
   "metadata": {},
   "outputs": [
    {
     "data": {
      "text/html": [
       "<div>\n",
       "<style scoped>\n",
       "    .dataframe tbody tr th:only-of-type {\n",
       "        vertical-align: middle;\n",
       "    }\n",
       "\n",
       "    .dataframe tbody tr th {\n",
       "        vertical-align: top;\n",
       "    }\n",
       "\n",
       "    .dataframe thead th {\n",
       "        text-align: right;\n",
       "    }\n",
       "</style>\n",
       "<table border=\"1\" class=\"dataframe\">\n",
       "  <thead>\n",
       "    <tr style=\"text-align: right;\">\n",
       "      <th></th>\n",
       "      <th>i#clientid</th>\n",
       "      <th>income</th>\n",
       "      <th>age</th>\n",
       "      <th>loan</th>\n",
       "      <th>c#default</th>\n",
       "      <th>grupo</th>\n",
       "    </tr>\n",
       "  </thead>\n",
       "  <tbody>\n",
       "    <tr>\n",
       "      <th>0</th>\n",
       "      <td>1</td>\n",
       "      <td>66155.925095</td>\n",
       "      <td>59.017015</td>\n",
       "      <td>8106.532131</td>\n",
       "      <td>0</td>\n",
       "      <td>0</td>\n",
       "    </tr>\n",
       "    <tr>\n",
       "      <th>1</th>\n",
       "      <td>2</td>\n",
       "      <td>34415.153966</td>\n",
       "      <td>48.117153</td>\n",
       "      <td>6564.745018</td>\n",
       "      <td>0</td>\n",
       "      <td>0</td>\n",
       "    </tr>\n",
       "    <tr>\n",
       "      <th>2</th>\n",
       "      <td>3</td>\n",
       "      <td>57317.170063</td>\n",
       "      <td>63.108049</td>\n",
       "      <td>8020.953296</td>\n",
       "      <td>0</td>\n",
       "      <td>0</td>\n",
       "    </tr>\n",
       "    <tr>\n",
       "      <th>3</th>\n",
       "      <td>4</td>\n",
       "      <td>42709.534201</td>\n",
       "      <td>45.751972</td>\n",
       "      <td>6103.642260</td>\n",
       "      <td>0</td>\n",
       "      <td>0</td>\n",
       "    </tr>\n",
       "    <tr>\n",
       "      <th>4</th>\n",
       "      <td>5</td>\n",
       "      <td>66952.688845</td>\n",
       "      <td>18.584336</td>\n",
       "      <td>8770.099235</td>\n",
       "      <td>1</td>\n",
       "      <td>0</td>\n",
       "    </tr>\n",
       "  </tbody>\n",
       "</table>\n",
       "</div>"
      ],
      "text/plain": [
       "   i#clientid        income        age         loan  c#default  grupo\n",
       "0           1  66155.925095  59.017015  8106.532131          0      0\n",
       "1           2  34415.153966  48.117153  6564.745018          0      0\n",
       "2           3  57317.170063  63.108049  8020.953296          0      0\n",
       "3           4  42709.534201  45.751972  6103.642260          0      0\n",
       "4           5  66952.688845  18.584336  8770.099235          1      0"
      ]
     },
     "execution_count": 189,
     "metadata": {},
     "output_type": "execute_result"
    }
   ],
   "source": [
    "dataset.head()"
   ]
  },
  {
   "cell_type": "code",
   "execution_count": 192,
   "metadata": {},
   "outputs": [
    {
     "data": {
      "text/html": [
       "<div>\n",
       "<style scoped>\n",
       "    .dataframe tbody tr th:only-of-type {\n",
       "        vertical-align: middle;\n",
       "    }\n",
       "\n",
       "    .dataframe tbody tr th {\n",
       "        vertical-align: top;\n",
       "    }\n",
       "\n",
       "    .dataframe thead th {\n",
       "        text-align: right;\n",
       "    }\n",
       "</style>\n",
       "<table border=\"1\" class=\"dataframe\">\n",
       "  <thead>\n",
       "    <tr style=\"text-align: right;\">\n",
       "      <th></th>\n",
       "      <th>i#clientid</th>\n",
       "      <th>income</th>\n",
       "      <th>age</th>\n",
       "      <th>loan</th>\n",
       "      <th>c#default</th>\n",
       "      <th>grupo</th>\n",
       "    </tr>\n",
       "  </thead>\n",
       "  <tbody>\n",
       "    <tr>\n",
       "      <th>1995</th>\n",
       "      <td>1996</td>\n",
       "      <td>59221.044874</td>\n",
       "      <td>48.518179</td>\n",
       "      <td>1926.729397</td>\n",
       "      <td>0</td>\n",
       "      <td>1</td>\n",
       "    </tr>\n",
       "    <tr>\n",
       "      <th>1996</th>\n",
       "      <td>1997</td>\n",
       "      <td>69516.127573</td>\n",
       "      <td>23.162104</td>\n",
       "      <td>3503.176156</td>\n",
       "      <td>0</td>\n",
       "      <td>1</td>\n",
       "    </tr>\n",
       "    <tr>\n",
       "      <th>1997</th>\n",
       "      <td>1998</td>\n",
       "      <td>44311.449262</td>\n",
       "      <td>28.017167</td>\n",
       "      <td>5522.786693</td>\n",
       "      <td>1</td>\n",
       "      <td>1</td>\n",
       "    </tr>\n",
       "    <tr>\n",
       "      <th>1998</th>\n",
       "      <td>1999</td>\n",
       "      <td>43756.056605</td>\n",
       "      <td>63.971796</td>\n",
       "      <td>1622.722598</td>\n",
       "      <td>0</td>\n",
       "      <td>1</td>\n",
       "    </tr>\n",
       "    <tr>\n",
       "      <th>1999</th>\n",
       "      <td>2000</td>\n",
       "      <td>69436.579552</td>\n",
       "      <td>56.152617</td>\n",
       "      <td>7378.833599</td>\n",
       "      <td>0</td>\n",
       "      <td>1</td>\n",
       "    </tr>\n",
       "  </tbody>\n",
       "</table>\n",
       "</div>"
      ],
      "text/plain": [
       "      i#clientid        income        age         loan  c#default  grupo\n",
       "1995        1996  59221.044874  48.518179  1926.729397          0      1\n",
       "1996        1997  69516.127573  23.162104  3503.176156          0      1\n",
       "1997        1998  44311.449262  28.017167  5522.786693          1      1\n",
       "1998        1999  43756.056605  63.971796  1622.722598          0      1\n",
       "1999        2000  69436.579552  56.152617  7378.833599          0      1"
      ]
     },
     "execution_count": 192,
     "metadata": {},
     "output_type": "execute_result"
    }
   ],
   "source": [
    "dataset.tail()"
   ]
  },
  {
   "cell_type": "markdown",
   "metadata": {},
   "source": [
    "Amostragem estratificada "
   ]
  },
  {
   "cell_type": "code",
   "execution_count": 47,
   "metadata": {},
   "outputs": [],
   "source": [
    "from sklearn.model_selection import StratifiedShuffleSplit"
   ]
  },
  {
   "cell_type": "code",
   "execution_count": 214,
   "metadata": {},
   "outputs": [
    {
     "data": {
      "text/plain": [
       "c#default\n",
       "0    1717\n",
       "1     283\n",
       "Name: count, dtype: int64"
      ]
     },
     "execution_count": 214,
     "metadata": {},
     "output_type": "execute_result"
    }
   ],
   "source": [
    "# Verificar a distribuição dos valores.\n",
    "dataset['c#default'].value_counts()"
   ]
  },
  {
   "cell_type": "code",
   "execution_count": 222,
   "metadata": {},
   "outputs": [
    {
     "name": "stdout",
     "output_type": "stream",
     "text": [
      "0.8585 0.1415\n"
     ]
    }
   ],
   "source": [
    "x = 1717 / len(dataset)\n",
    "y =  283 / len(dataset)\n",
    "print(x, y)"
   ]
  },
  {
   "cell_type": "code",
   "execution_count": 227,
   "metadata": {},
   "outputs": [],
   "source": [
    "def amostragem_estratificada(dataset, percentual, campo):\n",
    "    split = StratifiedShuffleSplit(test_size = percentual, random_state = 1)\n",
    "    for x, y in split.split(dataset, dataset[campo]):\n",
    "        df_x = dataset.iloc[x]\n",
    "        df_y = dataset.iloc[y]\n",
    "    return df_x, df_y  "
   ]
  },
  {
   "cell_type": "code",
   "execution_count": 240,
   "metadata": {},
   "outputs": [
    {
     "data": {
      "text/plain": [
       "(1000, 6)"
      ]
     },
     "execution_count": 240,
     "metadata": {},
     "output_type": "execute_result"
    }
   ],
   "source": [
    "df_x, df_y = amostragem_estratificada(dataset, 0.5, 'c#default')\n",
    "df_x.shape \n",
    "df_y.shape"
   ]
  }
 ],
 "metadata": {
  "kernelspec": {
   "display_name": "Python 3",
   "language": "python",
   "name": "python3"
  },
  "language_info": {
   "codemirror_mode": {
    "name": "ipython",
    "version": 3
   },
   "file_extension": ".py",
   "mimetype": "text/x-python",
   "name": "python",
   "nbconvert_exporter": "python",
   "pygments_lexer": "ipython3",
   "version": "3.11.1"
  }
 },
 "nbformat": 4,
 "nbformat_minor": 2
}
